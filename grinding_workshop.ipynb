{
 "cells": [
  {
   "cell_type": "code",
   "execution_count": null,
   "metadata": {},
   "outputs": [],
   "source": [
    "from Non_Homophily_Large_Scale.dataset import *\n",
    "\n",
    "# datanames = ['twitch-e', 'fb100', 'ogbn-proteins', 'deezer-europe', 'arxiv-year', 'pokec', 'snap-patents',\n",
    "#              'yelp-chi', 'ogbn-arxiv', 'ogbn-products', 'Cora', 'CiteSeer', 'PubMed', 'chameleon', 'cornell',\n",
    "#              'film', 'squirrel', 'texas', 'wisconsin', 'genius', 'twitch-gamer', 'wiki']\n",
    "datanames = ['yelp-chi']\n",
    "\n",
    "for data in datanames:\n",
    "    dataset = load_nc_dataset(data)\n",
    "\n"
   ]
  },
  {
   "cell_type": "code",
   "execution_count": null,
   "metadata": {},
   "outputs": [],
   "source": [
    "import torch\n",
    "import random\n",
    "\n",
    "# def random_select(tensor, K):\n",
    "tensor = torch.zeros(10)\n",
    "K = 5\n",
    "indices = random.sample(range(10), K)  # 从 0 到 N-1 之间的索引中随机选择 K 个不重复的位置\n",
    "tensor.view(-1)[indices] = True  # 将选中位置的值设为 1\n",
    "tensor"
   ]
  },
  {
   "cell_type": "code",
   "execution_count": null,
   "metadata": {},
   "outputs": [],
   "source": [
    "(tensor == 0)"
   ]
  },
  {
   "cell_type": "code",
   "execution_count": 1,
   "metadata": {},
   "outputs": [],
   "source": [
    "import torch\n",
    "from torch_geometric.data import Data\n",
    "from utils import load_dataset, split_dataset\n",
    "from model import GCN\n",
    "datanames = ['twitch-e', 'fb100', 'ogbn-proteins', 'deezer-europe', 'arxiv-year', 'pokec', 'snap-patents',\n",
    "             'yelp-chi', 'ogbn-arxiv', 'ogbn-products', 'Cora', 'CiteSeer', 'PubMed', 'chameleon', 'cornell',\n",
    "             'film', 'squirrel', 'texas', 'wisconsin', 'genius', 'twitch-gamer', 'wiki']\n",
    "# datanames = ['fb100']\n",
    "\n",
    "# for data in datanames:\n",
    "#     dataset = load_dataset(data)\n",
    "#     print(data, len(dataset))\n",
    "data = 'yelp-chi'\n",
    "dataset = load_dataset(data)\n",
    "split_dataset(dataset, 0.2, 0.8)\n",
    "\n",
    "graph = dataset[0][0]\n",
    "label = dataset.label\n",
    "num_class = len(torch.unique(label))"
   ]
  },
  {
   "cell_type": "code",
   "execution_count": 7,
   "metadata": {},
   "outputs": [
    {
     "name": "stdout",
     "output_type": "stream",
     "text": [
      "False\n",
      "True\n",
      "False\n",
      "False\n",
      "False\n",
      "False\n",
      "False\n"
     ]
    }
   ],
   "source": [
    "for key in graph.keys():\n",
    "    print(key=='node_feat')"
   ]
  },
  {
   "cell_type": "code",
   "execution_count": 15,
   "metadata": {},
   "outputs": [
    {
     "data": {
      "text/plain": [
       "tensor([[-0.7417, -0.4761],\n",
       "        [ 0.1925, -0.0169],\n",
       "        [ 0.2426,  0.0991],\n",
       "        [ 0.1326,  0.4701],\n",
       "        [ 1.0000, -0.5986],\n",
       "        [ 0.3264,  0.3041]])"
      ]
     },
     "execution_count": 15,
     "metadata": {},
     "output_type": "execute_result"
    }
   ],
   "source": [
    "A = torch.randn((6,2))\n",
    "A = A / A.max()\n",
    "A"
   ]
  },
  {
   "cell_type": "code",
   "execution_count": 20,
   "metadata": {},
   "outputs": [
    {
     "data": {
      "text/plain": [
       "tensor([1, 0, 0, 1, 0, 0])"
      ]
     },
     "execution_count": 20,
     "metadata": {},
     "output_type": "execute_result"
    }
   ],
   "source": [
    "values, index = A.max(dim=1)\n",
    "index"
   ]
  },
  {
   "cell_type": "code",
   "execution_count": 21,
   "metadata": {},
   "outputs": [
    {
     "data": {
      "text/plain": [
       "tensor([False,  True,  True,  True,  True,  True])"
      ]
     },
     "execution_count": 21,
     "metadata": {},
     "output_type": "execute_result"
    }
   ],
   "source": [
    "values > 0"
   ]
  },
  {
   "cell_type": "code",
   "execution_count": 29,
   "metadata": {},
   "outputs": [
    {
     "data": {
      "text/plain": [
       "False"
      ]
     },
     "execution_count": 29,
     "metadata": {},
     "output_type": "execute_result"
    }
   ],
   "source": [
    "G = Data(x=graph['node_feat'])\n",
    "'pes' in G"
   ]
  },
  {
   "cell_type": "code",
   "execution_count": 35,
   "metadata": {},
   "outputs": [
    {
     "data": {
      "text/plain": [
       "tensor(20)"
      ]
     },
     "execution_count": 35,
     "metadata": {},
     "output_type": "execute_result"
    }
   ],
   "source": [
    "\n",
    "torch.max(torch.tensor(10), torch.tensor(20))"
   ]
  },
  {
   "cell_type": "code",
   "execution_count": 44,
   "metadata": {},
   "outputs": [
    {
     "name": "stderr",
     "output_type": "stream",
     "text": [
      "  7%|▋         | 7/100 [00:15<03:22,  2.18s/iteration]\n",
      " 22%|██▏       | 22/100 [00:07<00:24,  3.14iteration/s]"
     ]
    },
    {
     "ename": "KeyboardInterrupt",
     "evalue": "",
     "output_type": "error",
     "traceback": [
      "\u001b[0;31m---------------------------------------------------------------------------\u001b[0m",
      "\u001b[0;31mKeyboardInterrupt\u001b[0m                         Traceback (most recent call last)",
      "Cell \u001b[0;32mIn[44], line 9\u001b[0m\n\u001b[1;32m      7\u001b[0m progress_bar\u001b[39m.\u001b[39mrefresh()\n\u001b[1;32m      8\u001b[0m k \u001b[39m=\u001b[39m k\u001b[39m+\u001b[39mtorch\u001b[39m.\u001b[39mrandint(\u001b[39m0\u001b[39m,\u001b[39m5\u001b[39m,(\u001b[39m1\u001b[39m,))\u001b[39m.\u001b[39mitem()\n\u001b[0;32m----> 9\u001b[0m time\u001b[39m.\u001b[39;49msleep(\u001b[39m1\u001b[39;49m)\n",
      "\u001b[0;31mKeyboardInterrupt\u001b[0m: "
     ]
    }
   ],
   "source": [
    "from tqdm import tqdm\n",
    "progress_bar = tqdm(total=100, unit='iteration')\n",
    "import time \n",
    "k = 0\n",
    "while k<100:\n",
    "    progress_bar.n = k\n",
    "    progress_bar.refresh()\n",
    "    k = k+torch.randint(0,5,(1,)).item()\n",
    "    time.sleep(1)\n"
   ]
  },
  {
   "cell_type": "code",
   "execution_count": 47,
   "metadata": {},
   "outputs": [
    {
     "name": "stdout",
     "output_type": "stream",
     "text": [
      "tensor(-0.7500)\n"
     ]
    }
   ],
   "source": [
    "import torch\n",
    "import torch.nn.functional as F\n",
    "\n",
    "# 模型预测值\n",
    "predictions = torch.tensor([[0.1, 0.2, 0.7], [0.8, 0.1, 0.1]])\n",
    "\n",
    "# 真实标签\n",
    "targets = torch.tensor([2, 0])\n",
    "\n",
    "# 计算负对数似然损失\n",
    "loss = F.nll_loss(predictions, targets)\n",
    "\n",
    "print(loss)"
   ]
  },
  {
   "cell_type": "code",
   "execution_count": 8,
   "metadata": {},
   "outputs": [
    {
     "name": "stdout",
     "output_type": "stream",
     "text": [
      "tensor([[1],\n",
      "        [1],\n",
      "        [0]])\n"
     ]
    }
   ],
   "source": [
    "import torch\n",
    "\n",
    "# 假设有一个N*2的概率张量\n",
    "probabilities = torch.tensor([[0, 1], [0.6, 0.4], [0.3, 0.7]])\n",
    "\n",
    "# 对概率张量进行采样\n",
    "samples = torch.multinomial(probabilities, 1, replacement=True)\n",
    "\n",
    "# 打印采样结果\n",
    "print(samples)"
   ]
  },
  {
   "cell_type": "code",
   "execution_count": 10,
   "metadata": {},
   "outputs": [
    {
     "name": "stdout",
     "output_type": "stream",
     "text": [
      "tensor([[ 0.5590,  0.0183],\n",
      "        [ 0.2898, -0.6151],\n",
      "        [ 0.5590,  0.0183]], grad_fn=<StackBackward0>)\n"
     ]
    }
   ],
   "source": [
    "import torch\n",
    "import torch.nn as nn\n",
    "\n",
    "N, m, k = 3, 4, 2  # 假设的维度\n",
    "\n",
    "# 假设有一个N*m维的张量X\n",
    "X = torch.randn(N, m)\n",
    "\n",
    "# 假设有一个N维的张量P\n",
    "P = torch.tensor([0, 1, 0])\n",
    "\n",
    "# 假设有一组MLP\n",
    "mlps = nn.ModuleList([nn.Linear(m, k) for _ in range(N)])\n",
    "\n",
    "# 将每一行的X通过对应的MLP进行前向传播\n",
    "X_prime = torch.stack([mlps[i](X[i]) for i in P])\n",
    "\n",
    "print(X_prime)"
   ]
  },
  {
   "cell_type": "code",
   "execution_count": 3,
   "metadata": {},
   "outputs": [],
   "source": [
    "import torch \n",
    "A = torch.randn((3,2))\n",
    "A[1] = torch.tensor([1,2])"
   ]
  },
  {
   "cell_type": "code",
   "execution_count": 9,
   "metadata": {},
   "outputs": [],
   "source": [
    "import torch\n",
    "\n",
    "# 假设你的张量名为 tensor\n",
    "tensor = torch.tensor([[1, 2, 3],\n",
    "                       [4, 5, 6],\n",
    "                       [1, 2, 3],\n",
    "                       [7, 8, 9],\n",
    "                       [4, 5, 6]])\n",
    "\n",
    "# 使用 torch.unique 函数找到唯一的张量和索引\n",
    "unique_tensor, inverse_indices = torch.unique(tensor, dim=0, return_inverse=True)"
   ]
  },
  {
   "cell_type": "code",
   "execution_count": 17,
   "metadata": {},
   "outputs": [],
   "source": [
    "import pandas as pd \n",
    "df = pd.DataFrame()\n",
    "dic = df.to_dict()\n",
    "dic['fb100'] = {}\n",
    "dic['fb100']['GCN'] = 1\n",
    "df = pd.DataFrame(dic)"
   ]
  },
  {
   "cell_type": "code",
   "execution_count": 15,
   "metadata": {},
   "outputs": [
    {
     "name": "stdout",
     "output_type": "stream",
     "text": [
      "Invalid sub_dataname, deferring to Penn94 graph\n"
     ]
    },
    {
     "data": {
      "text/plain": [
       "'computational_graph.pdf'"
      ]
     },
     "execution_count": 15,
     "metadata": {},
     "output_type": "execute_result"
    }
   ],
   "source": [
    "import torch\n",
    "import torch.nn as nn\n",
    "from torchviz import make_dot\n",
    "from model import GCN\n",
    "from utils import load_dataset,prepocessing\n",
    "\n",
    "data = load_dataset('fb100')\n",
    "graph = prepocessing(data)\n",
    "# 创建模型实例\n",
    "input_size = 1\n",
    "output_size = 1\n",
    "model = GCN(4814,32,2, num_layers=3, dropout=0.3)\n",
    "model.eval()\n",
    "\n",
    "# 前向传播获取输出\n",
    "outputs = model(graph)\n",
    "\n",
    "# 可视化计算图\n",
    "make_dot(outputs, params=dict(model.named_parameters())).render(\"computational_graph\")"
   ]
  },
  {
   "cell_type": "code",
   "execution_count": 2,
   "metadata": {},
   "outputs": [
    {
     "data": {
      "text/plain": [
       "dict_values([3, 2, 3, 1])"
      ]
     },
     "execution_count": 2,
     "metadata": {},
     "output_type": "execute_result"
    }
   ],
   "source": [
    "from collections import Counter\n",
    "\n",
    "Counter('baabbcccs').values()"
   ]
  },
  {
   "cell_type": "code",
   "execution_count": 13,
   "metadata": {},
   "outputs": [
    {
     "name": "stdout",
     "output_type": "stream",
     "text": [
      "Selected indices: tensor([4, 1])\n"
     ]
    }
   ],
   "source": [
    "import torch\n",
    "\n",
    "# 示例tensor和batch大小\n",
    "my_tensor = torch.tensor([False, True, False, True, True])\n",
    "batch_size = 2\n",
    "\n",
    "# 找到所有为True的索引\n",
    "true_indices = torch.where(my_tensor)[0]\n",
    "\n",
    "# 如果True的数量少于batch大小，取所有True；否则随机抽样\n",
    "if len(true_indices) <= batch_size:\n",
    "    selected_indices = true_indices\n",
    "else:\n",
    "    shuffled_indices = torch.randperm(len(true_indices))[:batch_size]\n",
    "    selected_indices = true_indices[shuffled_indices]\n",
    "\n",
    "# 输出结果\n",
    "print(\"Selected indices:\", selected_indices)\n"
   ]
  },
  {
   "cell_type": "code",
   "execution_count": 22,
   "metadata": {},
   "outputs": [],
   "source": [
    "my_tensor = torch.tensor([False, True, False, True, True])"
   ]
  },
  {
   "cell_type": "code",
   "execution_count": 26,
   "metadata": {},
   "outputs": [],
   "source": [
    "A = my_tensor.clone()\n",
    "A[selected_indices] = False"
   ]
  },
  {
   "cell_type": "code",
   "execution_count": 27,
   "metadata": {},
   "outputs": [
    {
     "data": {
      "text/plain": [
       "tensor([False, False, False,  True, False])"
      ]
     },
     "execution_count": 27,
     "metadata": {},
     "output_type": "execute_result"
    }
   ],
   "source": [
    "A"
   ]
  },
  {
   "cell_type": "code",
   "execution_count": 25,
   "metadata": {},
   "outputs": [
    {
     "data": {
      "text/plain": [
       "tensor([False, False, False,  True, False])"
      ]
     },
     "execution_count": 25,
     "metadata": {},
     "output_type": "execute_result"
    }
   ],
   "source": [
    "A"
   ]
  },
  {
   "cell_type": "code",
   "execution_count": 9,
   "metadata": {},
   "outputs": [],
   "source": [
    "import torch\n",
    "from torch_geometric.data import Data\n",
    "\n",
    "# 创建节点特征矩阵\n",
    "x = torch.tensor([[1, 2], [3, 4], [5, 6]], dtype=torch.float)\n",
    "\n",
    "# 创建边索引矩阵\n",
    "edge_index = torch.tensor([[0, 1, 1, 2,3], [1, 0, 2, 1,4]], dtype=torch.long)\n",
    "\n",
    "# 创建边特征矩阵（可选）\n",
    "edge_attr = torch.tensor([[0.5], [1.0], [2.0], [1.5]], dtype=torch.float)\n",
    "\n",
    "# 创建类别标签（可选）\n",
    "y = torch.tensor([0, 1, 1], dtype=torch.long)\n",
    "\n",
    "# 创建权重（可选）\n",
    "weight = torch.tensor([0.1, 0.2, 0.3, 0.4], dtype=torch.float)\n",
    "\n",
    "# 创建一个 Data 对象\n",
    "data = Data(x=x, edge_index=edge_index, edge_attr=edge_attr, y=y, weight=weight)"
   ]
  },
  {
   "cell_type": "code",
   "execution_count": 10,
   "metadata": {},
   "outputs": [],
   "source": [
    "import torch\n",
    "from torch_geometric.data import Data\n",
    "\n",
    "def find_edges_connected_to_nodes(data, node_indices):\n",
    "\n",
    "    node_indices = torch.tensor(node_indices)\n",
    "    mask = (data.edge_index[0].unsqueeze(1) == node_indices) | (data.edge_index[1].unsqueeze(1) == node_indices)\n",
    "    mask = mask.any(dim=1)\n",
    "    edge_indices = mask.nonzero(as_tuple=False).view(-1)\n",
    "    return edge_indices\n",
    "\n",
    "# 示例\n",
    "# 假设你的图数据对象是 `data`\n",
    "# 假设要找的节点索引列表是 `node_indices`\n",
    "node_indices = [0, 2]  # 你可以根据需要修改这个列表\n",
    "edge_indices = find_edges_connected_to_nodes(data, node_indices)\n"
   ]
  },
  {
   "cell_type": "code",
   "execution_count": 3,
   "metadata": {},
   "outputs": [],
   "source": [
    "import torch\n",
    "\n",
    "edge_indices = torch.tensor([0,1,2,3])"
   ]
  },
  {
   "cell_type": "code",
   "execution_count": 1,
   "metadata": {},
   "outputs": [],
   "source": [
    "import torch \n",
    "A = torch.randn((3,2))\n",
    "B = torch.randn((3,2))\n"
   ]
  },
  {
   "cell_type": "code",
   "execution_count": 6,
   "metadata": {},
   "outputs": [
    {
     "data": {
      "text/plain": [
       "tensor(8.1151)"
      ]
     },
     "execution_count": 6,
     "metadata": {},
     "output_type": "execute_result"
    }
   ],
   "source": [
    "l = 0\n",
    "torch.sum((A-B) * (A-B))/3"
   ]
  },
  {
   "cell_type": "code",
   "execution_count": 38,
   "metadata": {},
   "outputs": [],
   "source": [
    "A = torch.tensor([2,3,1,5,4])\n",
    "B = torch.tensor([[1,1],\n",
    "                  [2,2],\n",
    "                  [3,3],\n",
    "                  [4,4],\n",
    "                  [5,5]], dtype=float)\n",
    "sorted_indices = torch.argsort(A)"
   ]
  },
  {
   "cell_type": "code",
   "execution_count": 39,
   "metadata": {},
   "outputs": [],
   "source": [
    "B_sorted = B[sorted_indices]\n",
    "tmp = B_sorted[:2]\n",
    "C = [torch.zeros_like(B_sorted[:2]), B_sorted[2:]*0.7]\n",
    "\n",
    "C = torch.cat(C)"
   ]
  },
  {
   "cell_type": "code",
   "execution_count": 40,
   "metadata": {},
   "outputs": [
    {
     "data": {
      "text/plain": [
       "tensor([[3., 3.],\n",
       "        [1., 1.]], dtype=torch.float64)"
      ]
     },
     "execution_count": 40,
     "metadata": {},
     "output_type": "execute_result"
    }
   ],
   "source": [
    "tmp"
   ]
  },
  {
   "cell_type": "code",
   "execution_count": 41,
   "metadata": {},
   "outputs": [
    {
     "data": {
      "text/plain": [
       "tensor([[0.0000, 0.0000],\n",
       "        [1.4000, 1.4000],\n",
       "        [0.0000, 0.0000],\n",
       "        [2.8000, 2.8000],\n",
       "        [3.5000, 3.5000]], dtype=torch.float64)"
      ]
     },
     "execution_count": 41,
     "metadata": {},
     "output_type": "execute_result"
    }
   ],
   "source": [
    "indices = torch.argsort(sorted_indices)\n",
    "C = C[indices]\n",
    "C"
   ]
  },
  {
   "cell_type": "code",
   "execution_count": 42,
   "metadata": {},
   "outputs": [
    {
     "data": {
      "text/plain": [
       "tensor([2, 0, 1, 4, 3])"
      ]
     },
     "execution_count": 42,
     "metadata": {},
     "output_type": "execute_result"
    }
   ],
   "source": [
    "sorted_indices"
   ]
  },
  {
   "cell_type": "code",
   "execution_count": 45,
   "metadata": {},
   "outputs": [],
   "source": [
    "import torch\n",
    "\n",
    "# 假设 A 和 B 是两个 PyTorch tensor\n",
    "A = torch.tensor([0, 1, 0, 3, 2, 3, 0])\n",
    "B = torch.tensor([0, 0, 1, 1])\n",
    "\n",
    "# 使用 A 作为索引从 B 中获取对应的值\n",
    "A = B[A]\n"
   ]
  },
  {
   "cell_type": "code",
   "execution_count": 2,
   "metadata": {},
   "outputs": [],
   "source": [
    "import numpy as np \n",
    "loss_list = np.load('loss.npy')\n",
    "acc_list = np.load('acc.npy')\n",
    "pseudo_loss_list = np.load('pseudo_loss.npy')"
   ]
  },
  {
   "cell_type": "code",
   "execution_count": 3,
   "metadata": {},
   "outputs": [
    {
     "data": {
      "text/plain": [
       "<matplotlib.legend.Legend at 0x7f1b89275b50>"
      ]
     },
     "execution_count": 3,
     "metadata": {},
     "output_type": "execute_result"
    },
    {
     "data": {
      "image/png": "[encoded data removed]",
      "text/plain": [
       "<Figure size 640x480 with 1 Axes>"
      ]
     },
     "metadata": {},
     "output_type": "display_data"
    }
   ],
   "source": [
    "import matplotlib.pyplot as plt\n",
    "\n",
    "plt.plot(np.arange(len(loss_list)), loss_list[:,0], label='groudtruth_loss')\n",
    "plt.plot(np.arange(len(loss_list)), loss_list[:,1], label='autoencoder_loss')\n",
    "plt.legend()"
   ]
  },
  {
   "cell_type": "code",
   "execution_count": 4,
   "metadata": {},
   "outputs": [
    {
     "data": {
      "text/plain": [
       "<matplotlib.legend.Legend at 0x7f1b871cf430>"
      ]
     },
     "execution_count": 4,
     "metadata": {},
     "output_type": "execute_result"
    },
    {
     "data": {
      "image/png": "[encoded data removed]",
      "text/plain": [
       "<Figure size 640x480 with 1 Axes>"
      ]
     },
     "metadata": {},
     "output_type": "display_data"
    }
   ],
   "source": [
    "plt.plot(np.arange(len(acc_list)), acc_list, label='accuracy')\n",
    "plt.legend()"
   ]
  },
  {
   "cell_type": "code",
   "execution_count": 5,
   "metadata": {},
   "outputs": [
    {
     "data": {
      "text/plain": [
       "<matplotlib.legend.Legend at 0x7f1b8710de20>"
      ]
     },
     "execution_count": 5,
     "metadata": {},
     "output_type": "execute_result"
    },
    {
     "data": {
      "image/png": "[encoded data removed]",
      "text/plain": [
       "<Figure size 640x480 with 1 Axes>"
      ]
     },
     "metadata": {},
     "output_type": "display_data"
    }
   ],
   "source": [
    "plt.plot(np.arange(len(pseudo_loss_list)), pseudo_loss_list, label='pseudo_loss')\n",
    "plt.legend()"
   ]
  }
 ],
 "metadata": {
  "kernelspec": {
   "display_name": "graph_exp",
   "language": "python",
   "name": "python3"
  },
  "language_info": {
   "codemirror_mode": {
    "name": "ipython",
    "version": 3
   },
   "file_extension": ".py",
   "mimetype": "text/x-python",
   "name": "python",
   "nbconvert_exporter": "python",
   "pygments_lexer": "ipython3",
   "version": "3.9.17"
  },
  "orig_nbformat": 4
 },
 "nbformat": 4,
 "nbformat_minor": 2
}
